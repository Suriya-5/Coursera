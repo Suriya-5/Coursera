{
  "nbformat": 4,
  "nbformat_minor": 0,
  "metadata": {
    "colab": {
      "provenance": []
    },
    "kernelspec": {
      "name": "python3",
      "display_name": "Python 3"
    },
    "language_info": {
      "name": "python"
    }
  },
  "cells": [
    {
      "cell_type": "markdown",
      "source": [
        "## Data Science Tools and Ecosystem\n"
      ],
      "metadata": {
        "id": "dSLf2xVHQS3e"
      }
    },
    {
      "cell_type": "markdown",
      "source": [
        "In this notebook, Data Science Tools and Ecosystem are summarized.\n"
      ],
      "metadata": {
        "id": "SQe7ssqlRen4"
      }
    },
    {
      "cell_type": "markdown",
      "source": [
        "Some of the popular languages that Data Scientists use are:\n",
        "\n",
        "*   Python\n",
        "*   R\n",
        "*   Scala\n",
        "\n"
      ],
      "metadata": {
        "id": "kfwig8RQR0wG"
      }
    },
    {
      "cell_type": "markdown",
      "source": [
        "Some of the commonly used libraries used by Data Scientists include:\n",
        "\n",
        "*   Pandas\n",
        "*   Sklearn\n",
        "*   Numpy\n",
        "\n"
      ],
      "metadata": {
        "id": "lRzlCbiZSXZd"
      }
    },
    {
      "cell_type": "markdown",
      "source": [
        "| Tool                | Description                                       | Link                                      |\n",
        "|---------------------|---------------------------------------------------|-------------------------------------------|\n",
        "| Jupyter Notebooks   | Interactive computing and data analysis           | [Jupyter](https://jupyter.org/)            |\n",
        "| RStudio             | Integrated development environment for R          | [RStudio](https://www.rstudio.com/)       |\n",
        "| VS Code with Python | Code editor with a Python extension for data      | [VS Code](https://code.visualstudio.com/) |\n",
        "|                     | science development                                |                                           |\n"
      ],
      "metadata": {
        "id": "R2Hoz6u-UK3_"
      }
    },
    {
      "cell_type": "markdown",
      "source": [],
      "metadata": {
        "id": "AdcJoUg8VVGu"
      }
    },
    {
      "cell_type": "markdown",
      "source": [
        "# Arithmetic Expression Examples in Python\n",
        "Below are a few examples of evaluating arithmetic expressions in Python."
      ],
      "metadata": {
        "id": "Yu_xmhkaVw70"
      }
    },
    {
      "cell_type": "code",
      "source": [
        "# This a simple arithmetic expression to mutiply then add integers\n",
        "(3*4)+5"
      ],
      "metadata": {
        "colab": {
          "base_uri": "https://localhost:8080/"
        },
        "id": "3A9KWmpbVrRE",
        "outputId": "f9a92e8a-1e1a-437d-ac8c-3fb94c31df96"
      },
      "execution_count": 1,
      "outputs": [
        {
          "output_type": "execute_result",
          "data": {
            "text/plain": [
              "17"
            ]
          },
          "metadata": {},
          "execution_count": 1
        }
      ]
    },
    {
      "cell_type": "code",
      "source": [
        "#This will convert 200 minutes to hours by diving by 60\n",
        "minutes = 200\n",
        "hours = minutes / 60\n",
        "print(hours)"
      ],
      "metadata": {
        "colab": {
          "base_uri": "https://localhost:8080/"
        },
        "id": "oE3KI1J4W_T9",
        "outputId": "f55c7544-bf25-4c23-e2b6-a3ae2d273370"
      },
      "execution_count": 2,
      "outputs": [
        {
          "output_type": "stream",
          "name": "stdout",
          "text": [
            "3.3333333333333335\n"
          ]
        }
      ]
    },
    {
      "cell_type": "markdown",
      "source": [
        "# Objectives:\n",
        "\n",
        "**1. Explore Popular Languages for Data Science:**\n",
        "   - Identify and understand some of the most commonly used programming languages in the field of data science.\n",
        "\n",
        "**2. Introduction to Development Environments:**\n",
        "   - Learn about essential development environments used in data science, including Jupyter Notebooks, RStudio, and VS Code with Python extension.\n",
        "\n",
        "**3. Evaluate Arithmetic Expressions in Python:**\n",
        "   - Understand basic arithmetic operations in Python and learn how to express them in code.\n",
        "\n",
        "**4. Apply Arithmetic Operations to Time Conversion:**\n",
        "   - Practice using Python to convert units, such as converting minutes to hours.\n",
        "\n",
        "**5. Enhance Markdown Skills:**\n",
        "   - Develop proficiency in creating well-formatted markdown cells for documentation and presentation within Google Colab notebooks.\n"
      ],
      "metadata": {
        "id": "SiJYRMnFXmbt"
      }
    },
    {
      "cell_type": "markdown",
      "source": [
        "## Author\n",
        "\n",
        "Suriya Sultana"
      ],
      "metadata": {
        "id": "Fn622kwHYZn1"
      }
    }
  ]
}